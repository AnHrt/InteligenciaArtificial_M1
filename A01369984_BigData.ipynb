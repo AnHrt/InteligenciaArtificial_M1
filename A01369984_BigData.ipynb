{
 "cells": [
  {
   "cell_type": "markdown",
   "id": "f8538df0",
   "metadata": {},
   "source": [
    "## Utilización, procesamiento y visualiazción de grandes volúmenes de datos.\n",
    "##### Portafolio de análisis - Módulo 1 Big Data\n",
    "> María de los Angeles Arista Huerta / *A01369984*"
   ]
  },
  {
   "cell_type": "markdown",
   "id": "255964f3",
   "metadata": {},
   "source": [
    "***Configurazión del entorno***"
   ]
  },
  {
   "cell_type": "code",
   "execution_count": 1,
   "id": "7862dc31",
   "metadata": {
    "ExecuteTime": {
     "end_time": "2022-11-25T06:15:37.581803Z",
     "start_time": "2022-11-25T06:15:37.570735Z"
    }
   },
   "outputs": [],
   "source": [
    "# Variable de entorno\n",
    "import os\n",
    "os.environ[\"JAVA_HOME\"] = \"/usr/lib/jvm/java-8-openjdk-arm64\"\n",
    "os.environ[\"SPARK_HOME\"] = \"/home/mc/spark/spark-3.2.2-bin-hadoop3.2\"\n",
    "\n",
    "# Buscando e inicializando la instalación de Spark\n",
    "import findspark\n",
    "findspark.find()\n",
    "findspark.init()"
   ]
  },
  {
   "cell_type": "code",
   "execution_count": 2,
   "id": "5994f7b5",
   "metadata": {
    "ExecuteTime": {
     "end_time": "2022-11-25T06:15:42.161452Z",
     "start_time": "2022-11-25T06:15:37.584513Z"
    }
   },
   "outputs": [
    {
     "name": "stderr",
     "output_type": "stream",
     "text": [
      "Setting default log level to \"WARN\".\n",
      "To adjust logging level use sc.setLogLevel(newLevel). For SparkR, use setLogLevel(newLevel).\n",
      "22/11/25 06:15:39 WARN NativeCodeLoader: Unable to load native-hadoop library for your platform... using builtin-java classes where applicable\n"
     ]
    },
    {
     "data": {
      "text/html": [
       "\n",
       "            <div>\n",
       "                <p><b>SparkSession - in-memory</b></p>\n",
       "                \n",
       "        <div>\n",
       "            <p><b>SparkContext</b></p>\n",
       "\n",
       "            <p><a href=\"http://fox-arm.subnet02281739.vcn02281739.oraclevcn.com:4040\">Spark UI</a></p>\n",
       "\n",
       "            <dl>\n",
       "              <dt>Version</dt>\n",
       "                <dd><code>v3.2.2</code></dd>\n",
       "              <dt>Master</dt>\n",
       "                <dd><code>local[*]</code></dd>\n",
       "              <dt>AppName</dt>\n",
       "                <dd><code>BD_Angie</code></dd>\n",
       "            </dl>\n",
       "        </div>\n",
       "        \n",
       "            </div>\n",
       "        "
      ],
      "text/plain": [
       "<pyspark.sql.session.SparkSession at 0xffff713ada00>"
      ]
     },
     "execution_count": 2,
     "metadata": {},
     "output_type": "execute_result"
    }
   ],
   "source": [
    "# Sesion de  Spark\n",
    "from pyspark.sql import SparkSession\n",
    "spark_session = SparkSession.builder.appName('BD_Angie').getOrCreate()\n",
    "spark_session"
   ]
  },
  {
   "cell_type": "markdown",
   "id": "da6093af",
   "metadata": {},
   "source": [
    "***Carga de datos***\n",
    "##### *Dataset obtenido de https://www.kaggle.com/datasets/pigment/big-sales-data*"
   ]
  },
  {
   "cell_type": "markdown",
   "id": "816453d6",
   "metadata": {},
   "source": [
    "Para conocer el dataset se imprimen las variables y el esquemas de las mismas, de esta forma podemos saber cuales columnas contienen strings, enteros y flotantes."
   ]
  },
  {
   "cell_type": "code",
   "execution_count": 3,
   "id": "53f97d33",
   "metadata": {
    "ExecuteTime": {
     "end_time": "2022-11-25T06:16:19.812458Z",
     "start_time": "2022-11-25T06:15:42.165092Z"
    }
   },
   "outputs": [
    {
     "name": "stderr",
     "output_type": "stream",
     "text": [
      "                                                                                \r"
     ]
    },
    {
     "name": "stdout",
     "output_type": "stream",
     "text": [
      "+-------------------+----------+------------+--------------------+--------------------+---------------+--------+--------------------+-------------+-------------+--------+--------------------+-------------+--------------------+-----------+--------------------+----+------------------+-----------------+-------------------+------------+--------------+--------------------+---------------------+\n",
      "|Invoice/Item Number|      Date|Store Number|          Store Name|             Address|           City|Zip Code|      Store Location|County Number|       County|Category|       Category Name|Vendor Number|         Vendor Name|Item Number|    Item Description|Pack|Bottle Volume (ml)|State Bottle Cost|State Bottle Retail|Bottles Sold|Sale (Dollars)|Volume Sold (Liters)|Volume Sold (Gallons)|\n",
      "+-------------------+----------+------------+--------------------+--------------------+---------------+--------+--------------------+-------------+-------------+--------+--------------------+-------------+--------------------+-----------+--------------------+----+------------------+-----------------+-------------------+------------+--------------+--------------------+---------------------+\n",
      "|       S24127700024|02/19/2015|        3678|     Smoke Shop, The|     1918 SE 14TH ST|     DES MOINES|   50320|POINT (-93.597011...|           77|         Polk| 1031200|      VODKA FLAVORED|          380|Phillips Beverage...|      41783|Uv Blue Raspberry...|   6|               500|             4.89|               7.34|           2|         14.68|                 1.0|                 0.26|\n",
      "|       S15066200002|10/10/2013|        2633|Hy-Vee #3 / BDI /...|     3221 SE 14TH ST|     DES MOINES|   50320|POINT (-93.596754...|           77|         Polk| 1082900|MISC. IMPORTED CO...|          305|             MHW Ltd|     904969|Sabe Premiom Sake...|   6|               750|            14.99|              22.49|           6|        134.94|                 4.5|                 1.19|\n",
      "|       S19323500030|06/03/2014|        2607|Hy-Vee Wine and S...|      520 SO FREMONT|     SHENANDOAH|   51601|POINT (-95.385111...|           73|         Page| 1062200|PUERTO RICO & VIR...|          434|      Luxco-St Louis|      45277| Paramount White Rum|  12|              1000|             4.34|               6.51|          12|         78.12|                12.0|                 3.17|\n",
      "|       S23334500013|01/06/2015|        4810|Kum & Go #518 / A...|3603 NE OTTERVIEW...|         ANKENY|   50021|POINT (-93.572458...|           77|         Polk| 1062200|PUERTO RICO & VIR...|           35|Bacardi U.S.A., Inc.|      43121|Bacardi Superior ...|  12|               500|             5.54|               8.31|           1|          8.31|                 0.5|                 0.13|\n",
      "|       S09742200010|12/27/2012|        4025|Karam Kaur Khasri...|         702 13TH ST|   BELLE PLAINE|   52208|POINT (-92.277759...|            6|       Benton| 1012100|   CANADIAN WHISKIES|          260|     Diageo Americas|      11298|Crown Royal Canad...|   6|              1750|             31.0|              46.49|           2|         92.98|                 3.5|                 0.92|\n",
      "|       S15034600007|10/09/2013|        4583|Kum & Go #5100 / ...|         208 MAIN ST|         MANSON|   50563|POINT (-94.534532...|           13|      Calhoun| 1081200|      CREAM LIQUEURS|          305|             MHW Ltd|      73050|            Rumchata|   6|               750|             12.5|              18.75|           6|         112.5|                 4.5|                 1.19|\n",
      "|       S25185100053|04/21/2015|        5080|    C's Liquor Store|       719 2ND AVE W|        SPENCER|   51301|POINT (-95.147741...|           21|         Clay| 1081390|   IMPORTED SCHNAPPS|          421|   Sazerac Co., Inc.|      69713|Dr. McGillicuddy'...|  12|               500|             4.96|               7.44|           1|          7.44|                 0.5|                 0.13|\n",
      "|       S25786400073|05/21/2015|        5102|      Wilkie Liquors|    724, 1st  ST  SE|   MOUNT VERNON|   52314|POINT (-91.410401...|           57|         Linn| 1031080|      VODKA 80 PROOF|          434|      Luxco-St Louis|      36307|       Hawkeye Vodka|  12|              1000|             4.05|               6.08|          24|        145.92|                24.0|                 6.34|\n",
      "|       S26178600169|06/15/2015|        2506|Hy-Vee #1044 / Bu...|         3140 AGENCY|     BURLINGTON|   52601|POINT (-91.136655...|           29|   Des Moines| 1081600|     WHISKEY LIQUEUR|          260|     Diageo Americas|      66206|Piehole Cherry Pi...|  12|               500|              4.9|               7.35|           1|          7.35|                 0.5|                 0.13|\n",
      "|       S11599200028|04/11/2013|        2630|Hy-Vee Drugstore ...|       1010  60TH ST|WEST DES MOINES|   50266|POINT (-93.790534...|           77|         Polk| 1071100|  AMERICAN COCKTAILS|          395|             Proximo|      58838|Jose Cuervo Authe...|   6|              1750|              8.2|               12.3|           6|          73.8|                10.5|                 2.77|\n",
      "|       S14039300026|08/21/2013|        3916|Smokin' Joe's #5 ...|       1115 ALBIA RD|        OTTUMWA|   52501|POINT (-92.437224...|           90|      Wapello| 1012100|   CANADIAN WHISKIES|          260|     Diageo Americas|      11294|Crown Royal Canad...|  24|               375|             7.65|              11.48|           1|         11.48|                0.38|                  0.1|\n",
      "|       S14777200004|09/25/2013|        4073|  Uptown Liquor, Llc|    306 HWY 69 SOUTH|    FOREST CITY|   50436|POINT (-93.633306...|           95|    Winnebago| 1012100|   CANADIAN WHISKIES|           55|Sazerac North Ame...|      12407| Canadian Ltd Whisky|  12|              1000|              5.5|               8.25|          12|          99.0|                12.0|                 3.17|\n",
      "|       S28698700004|10/27/2015|        2578|Hy-Vee / Charles ...|        901 KELLY ST|   CHARLES CITY|   50616|POINT (-92.675560...|           34|        Floyd| 1031080|      VODKA 80 PROOF|          260|     Diageo Americas|      37426|Popov Vodka 80 Pr...|  12|               750|              4.5|               6.75|          12|          81.0|                 9.0|                 2.38|\n",
      "|       S15825800006|11/20/2013|        4465| HOME TOWN FOOD ON 4|       714 S EAST ST|        POMEROY|   50575|POINT (-94.678054...|           13|      Calhoun| 1011100|    BLENDED WHISKIES|          434|      Luxco-St Louis|      24156|Hawkeye Blend Whi...|  12|               750|             3.36|               5.04|          24|        120.96|                18.0|                 4.76|\n",
      "|       S27233900076|08/10/2015|        2613|Hy-Vee Food Store...|     2323 W BROADWAY| COUNCIL BLUFFS|   51501|POINT (-95.879662...|           78|Pottawattamie| 1022100|             TEQUILA|          410|The Patron Spirit...|      88296|Patron Tequila Si...|  12|               750|             27.0|               40.5|          12|         486.0|                 9.0|                 2.38|\n",
      "|       S11716100052|04/17/2013|        3990|Cork and Bottle /...|      309 A AVE WEST|      OSKALOOSA|   52577|POINT (-92.648153...|           62|      Mahaska| 1032200|IMPORTED VODKA - ...|           35|Bacardi U.S.A., Inc.|      34436|Grey Goose Vodka ...|   6|               750|            17.97|              26.96|           1|         26.96|                0.75|                  0.2|\n",
      "|       S28977300019|11/10/2015|        4743|No Frills Superma...| 1801 VALLEY VIEW DR| COUNCIL BLUFFS|   51503|POINT (-95.818775...|           78|Pottawattamie| 1022100|             TEQUILA|          395|             Proximo|      89198|Jose Cuervo Espec...|   6|              1750|            20.25|              30.38|           6|        182.28|                10.5|                 2.77|\n",
      "|       S10005300010|01/15/2013|        2460|   Liquor Barn, Inc.|721 CENTRAL AVENU...|        HAMPTON|   50441|POINT (-93.21693 ...|           35|     Franklin| 1012100|   CANADIAN WHISKIES|           85|Brown-Forman Corp...|      12476|Canadian Mist Whi...|  12|               750|             5.44|               8.15|          12|          97.8|                 9.0|                 2.38|\n",
      "|       S08028500005|10/01/2012|        4109|           Best Trip|         1516 SE 1ST|     DES MOINES|   50315|POINT (-93.613469...|           77|         Polk| 1011500|STRAIGHT RYE WHIS...|          255| Wilson Daniels Ltd.|      27102|       Templeton Rye|   6|               750|            18.08|              27.13|           6|        162.78|                 4.5|                 1.19|\n",
      "|       S12260600026|05/16/2013|        3918|Smokin' Joe's #1 ...|  3120 ROCKINGHAM RD|      DAVENPORT|   52802|POINT (-90.621541...|           82|        Scott| 1081300| PEPPERMINT SCHNAPPS|          434|      Luxco-St Louis|      80576|Arrow Peppermint ...|  12|               750|             3.42|               5.13|           1|          5.13|                0.75|                  0.2|\n",
      "+-------------------+----------+------------+--------------------+--------------------+---------------+--------+--------------------+-------------+-------------+--------+--------------------+-------------+--------------------+-----------+--------------------+----+------------------+-----------------+-------------------+------------+--------------+--------------------+---------------------+\n",
      "only showing top 20 rows\n",
      "\n"
     ]
    }
   ],
   "source": [
    "# Carga del archivo csv, primera visualización\n",
    "df  = spark_session.read.csv('Liquor_Sales.csv', header=True, inferSchema=True)\n",
    "df.show()"
   ]
  },
  {
   "cell_type": "code",
   "execution_count": 4,
   "id": "0636f378",
   "metadata": {
    "ExecuteTime": {
     "end_time": "2022-11-25T06:16:19.837941Z",
     "start_time": "2022-11-25T06:16:19.818722Z"
    }
   },
   "outputs": [
    {
     "name": "stdout",
     "output_type": "stream",
     "text": [
      "root\n",
      " |-- Invoice/Item Number: string (nullable = true)\n",
      " |-- Date: string (nullable = true)\n",
      " |-- Store Number: integer (nullable = true)\n",
      " |-- Store Name: string (nullable = true)\n",
      " |-- Address: string (nullable = true)\n",
      " |-- City: string (nullable = true)\n",
      " |-- Zip Code: string (nullable = true)\n",
      " |-- Store Location: string (nullable = true)\n",
      " |-- County Number: integer (nullable = true)\n",
      " |-- County: string (nullable = true)\n",
      " |-- Category: integer (nullable = true)\n",
      " |-- Category Name: string (nullable = true)\n",
      " |-- Vendor Number: integer (nullable = true)\n",
      " |-- Vendor Name: string (nullable = true)\n",
      " |-- Item Number: string (nullable = true)\n",
      " |-- Item Description: string (nullable = true)\n",
      " |-- Pack: integer (nullable = true)\n",
      " |-- Bottle Volume (ml): integer (nullable = true)\n",
      " |-- State Bottle Cost: double (nullable = true)\n",
      " |-- State Bottle Retail: double (nullable = true)\n",
      " |-- Bottles Sold: integer (nullable = true)\n",
      " |-- Sale (Dollars): double (nullable = true)\n",
      " |-- Volume Sold (Liters): double (nullable = true)\n",
      " |-- Volume Sold (Gallons): double (nullable = true)\n",
      "\n"
     ]
    }
   ],
   "source": [
    "# Esquema de los datos\n",
    "df.printSchema()"
   ]
  },
  {
   "cell_type": "markdown",
   "id": "484c2db7",
   "metadata": {},
   "source": [
    "Después de ver los datos, se deben preparar para implementarlos a un modelo. De inicio se desea hacer una regresión lineal para predecir las ventas en dolares."
   ]
  },
  {
   "cell_type": "markdown",
   "id": "b5f2979b",
   "metadata": {},
   "source": [
    "***Limpieza de datos***"
   ]
  },
  {
   "cell_type": "markdown",
   "id": "8838ca63",
   "metadata": {},
   "source": [
    "Se comienza la limpieza mostrando la cantidad de datos nulos que posee nuestro dataset."
   ]
  },
  {
   "cell_type": "code",
   "execution_count": 5,
   "id": "da27a9d2",
   "metadata": {
    "ExecuteTime": {
     "end_time": "2022-11-25T06:19:20.899739Z",
     "start_time": "2022-11-25T06:16:19.840850Z"
    }
   },
   "outputs": [
    {
     "name": "stderr",
     "output_type": "stream",
     "text": [
      "[Stage 3:=======================================================> (35 + 1) / 36]\r"
     ]
    },
    {
     "name": "stdout",
     "output_type": "stream",
     "text": [
      "+-------------------+----+------------+----------+-------+-----+--------+--------------+-------------+------+--------+-------------+-------------+-----------+-----------+----------------+----+------------------+-----------------+-------------------+------------+--------------+--------------------+---------------------+\n",
      "|Invoice/Item Number|Date|Store Number|Store Name|Address| City|Zip Code|Store Location|County Number|County|Category|Category Name|Vendor Number|Vendor Name|Item Number|Item Description|Pack|Bottle Volume (ml)|State Bottle Cost|State Bottle Retail|Bottles Sold|Sale (Dollars)|Volume Sold (Liters)|Volume Sold (Gallons)|\n",
      "+-------------------+----+------------+----------+-------+-----+--------+--------------+-------------+------+--------+-------------+-------------+-----------+-----------+----------------+----+------------------+-----------------+-------------------+------------+--------------+--------------------+---------------------+\n",
      "|                  0|   0|           0|         0|  79927|79926|   79971|       1886023|       156731|156729|   16974|        25040|            5|          3|          0|               0|   0|                 0|               10|                 10|           0|            10|                   0|                    0|\n",
      "+-------------------+----+------------+----------+-------+-----+--------+--------------+-------------+------+--------+-------------+-------------+-----------+-----------+----------------+----+------------------+-----------------+-------------------+------------+--------------+--------------------+---------------------+\n",
      "\n"
     ]
    },
    {
     "name": "stderr",
     "output_type": "stream",
     "text": [
      "                                                                                \r"
     ]
    }
   ],
   "source": [
    "# Montrar cantidad de valores nulos\n",
    "from pyspark.sql.functions import when,lit,count,isnan,col\n",
    "df.select([count(when(isnan(c)|col(c).isNull(),c)).alias(c) for c in df.columns]).show()"
   ]
  },
  {
   "cell_type": "markdown",
   "id": "f4d7fa02",
   "metadata": {},
   "source": [
    "##### 79927 | Address\n",
    "##### 79926 | City\n",
    "##### 79971 | Zip Code\n",
    "##### 1886023 | Store Location\n",
    "##### 156731 | County Number\n",
    "##### 156729 | County\n",
    "##### 16974 | Category\n",
    "##### 25040 | Category Name\n",
    "##### 5 | Vendor Number\n",
    "##### 3 | Vendor Name\n",
    "##### 10 | State Bottle Cost\n",
    "##### 10 | State Bottle Retail\n",
    "##### 10 | Sale (Dollars)\n",
    "Aqui se enlistan los valores nulos totales que poseen las variables, las no listadas no tienen datos nulos. Durante la visualización de los datos en tablue se tenía considerado utilizar la categoria de los licores para definir la venta, sin embargo al mostrar demasiado valor nulos y tener una gran cantidad de categorías, no se ha considerado para implementarlo en el modelo.\n",
    "\n",
    "Tome la desición de primero separar las variables relevantes para el modelo y después eliminar los valores nulos, ya que varia demasiado la cantidad de nulos en ciertas variables, lo cual eliminarlas de inicio provocaría perder información importante.\n",
    "\n",
    "Las variables a ocupar para el modelo son:\n",
    "* Pack\n",
    "* Bottle Volume (ml)\n",
    "* State Bottle Cost\n",
    "* State Bottle Retail\n",
    "* Bottles Sold\n",
    "* Volume Sold (Liters)\n",
    "* Sale (Dollars)"
   ]
  },
  {
   "cell_type": "code",
   "execution_count": 6,
   "id": "303dda8a",
   "metadata": {
    "ExecuteTime": {
     "end_time": "2022-11-25T06:19:21.098121Z",
     "start_time": "2022-11-25T06:19:20.904375Z"
    }
   },
   "outputs": [
    {
     "name": "stdout",
     "output_type": "stream",
     "text": [
      "+----+------------------+-----------------+-------------------+------------+--------------+--------------------+\n",
      "|Pack|Bottle Volume (ml)|State Bottle Cost|State Bottle Retail|Bottles Sold|Sale (Dollars)|Volume Sold (Liters)|\n",
      "+----+------------------+-----------------+-------------------+------------+--------------+--------------------+\n",
      "|   6|               500|             4.89|               7.34|           2|         14.68|                 1.0|\n",
      "|   6|               750|            14.99|              22.49|           6|        134.94|                 4.5|\n",
      "|  12|              1000|             4.34|               6.51|          12|         78.12|                12.0|\n",
      "|  12|               500|             5.54|               8.31|           1|          8.31|                 0.5|\n",
      "|   6|              1750|             31.0|              46.49|           2|         92.98|                 3.5|\n",
      "|   6|               750|             12.5|              18.75|           6|         112.5|                 4.5|\n",
      "|  12|               500|             4.96|               7.44|           1|          7.44|                 0.5|\n",
      "|  12|              1000|             4.05|               6.08|          24|        145.92|                24.0|\n",
      "|  12|               500|              4.9|               7.35|           1|          7.35|                 0.5|\n",
      "|   6|              1750|              8.2|               12.3|           6|          73.8|                10.5|\n",
      "|  24|               375|             7.65|              11.48|           1|         11.48|                0.38|\n",
      "|  12|              1000|              5.5|               8.25|          12|          99.0|                12.0|\n",
      "|  12|               750|              4.5|               6.75|          12|          81.0|                 9.0|\n",
      "|  12|               750|             3.36|               5.04|          24|        120.96|                18.0|\n",
      "|  12|               750|             27.0|               40.5|          12|         486.0|                 9.0|\n",
      "|   6|               750|            17.97|              26.96|           1|         26.96|                0.75|\n",
      "|   6|              1750|            20.25|              30.38|           6|        182.28|                10.5|\n",
      "|  12|               750|             5.44|               8.15|          12|          97.8|                 9.0|\n",
      "|   6|               750|            18.08|              27.13|           6|        162.78|                 4.5|\n",
      "|  12|               750|             3.42|               5.13|           1|          5.13|                0.75|\n",
      "+----+------------------+-----------------+-------------------+------------+--------------+--------------------+\n",
      "only showing top 20 rows\n",
      "\n"
     ]
    }
   ],
   "source": [
    "# Variables relevantes\n",
    "df = df.select(['Pack', 'Bottle Volume (ml)', 'State Bottle Cost', 'State Bottle Retail', 'Bottles Sold', 'Sale (Dollars)', 'Volume Sold (Liters)'])\n",
    "df.show()"
   ]
  },
  {
   "cell_type": "code",
   "execution_count": 7,
   "id": "16e65e0c",
   "metadata": {
    "ExecuteTime": {
     "end_time": "2022-11-25T06:19:38.832096Z",
     "start_time": "2022-11-25T06:19:21.100089Z"
    }
   },
   "outputs": [
    {
     "name": "stderr",
     "output_type": "stream",
     "text": [
      "[Stage 7:=======================================================> (35 + 1) / 36]\r"
     ]
    },
    {
     "name": "stdout",
     "output_type": "stream",
     "text": [
      "+----+------------------+-----------------+-------------------+------------+--------------+--------------------+\n",
      "|Pack|Bottle Volume (ml)|State Bottle Cost|State Bottle Retail|Bottles Sold|Sale (Dollars)|Volume Sold (Liters)|\n",
      "+----+------------------+-----------------+-------------------+------------+--------------+--------------------+\n",
      "|   0|                 0|                0|                  0|           0|             0|                   0|\n",
      "+----+------------------+-----------------+-------------------+------------+--------------+--------------------+\n",
      "\n"
     ]
    },
    {
     "name": "stderr",
     "output_type": "stream",
     "text": [
      "                                                                                \r"
     ]
    }
   ],
   "source": [
    "# Eliminar datos nulos y verificar que ya se eliminaron\n",
    "df = df.na.drop()\n",
    "df.select([count(when(isnan(c)|col(c).isNull(),c)).alias(c) for c in df.columns]).show()"
   ]
  },
  {
   "cell_type": "markdown",
   "id": "dea822c8",
   "metadata": {},
   "source": [
    "Al eliminar los valores nulos, se procede con el modelo, que en este caso se implementa una regresión lineal"
   ]
  },
  {
   "cell_type": "markdown",
   "id": "2855809f",
   "metadata": {},
   "source": [
    "***Modelo de regresion lineal***"
   ]
  },
  {
   "cell_type": "markdown",
   "id": "27a7c72c",
   "metadata": {},
   "source": [
    "Los pasos a realizar para el modelo son los siguientes:\n",
    "* Importar librerias necesarias \n",
    "* Transformar las columnas relevantes para generar una columna vectorial\n",
    "* Almacenar la columna vectorial y la columna de la variable a predecir para utilizarlas como entrada al modelo\n",
    "* Dividir el dataset en datos de entrenamiento y pruebas (80/20) \n",
    "* Definir el modelo de regresión lineal"
   ]
  },
  {
   "cell_type": "code",
   "execution_count": 8,
   "id": "63211fa7",
   "metadata": {
    "ExecuteTime": {
     "end_time": "2022-11-25T06:19:38.986592Z",
     "start_time": "2022-11-25T06:19:38.833732Z"
    }
   },
   "outputs": [],
   "source": [
    "#Librerias necesarias\n",
    "from pyspark.ml.feature import VectorAssembler\n",
    "from pyspark.ml.regression import LinearRegression"
   ]
  },
  {
   "cell_type": "code",
   "execution_count": 9,
   "id": "c4dbefc4",
   "metadata": {
    "ExecuteTime": {
     "end_time": "2022-11-25T06:19:39.015417Z",
     "start_time": "2022-11-25T06:19:38.989176Z"
    }
   },
   "outputs": [],
   "source": [
    "# Transformador - combina las columnas para generar una columna vectorial\n",
    "lassembler = VectorAssembler(\n",
    "    inputCols = ['Pack','Bottle Volume (ml)','State Bottle Cost','State Bottle Retail','Bottles Sold','Volume Sold (Liters)'],\n",
    "    outputCol = 'features')"
   ]
  },
  {
   "cell_type": "code",
   "execution_count": 10,
   "id": "33b04140",
   "metadata": {
    "ExecuteTime": {
     "end_time": "2022-11-25T06:19:39.155965Z",
     "start_time": "2022-11-25T06:19:39.019088Z"
    }
   },
   "outputs": [],
   "source": [
    "output = lassembler.transform(df)"
   ]
  },
  {
   "cell_type": "code",
   "execution_count": 11,
   "id": "70a0392e",
   "metadata": {
    "ExecuteTime": {
     "end_time": "2022-11-25T06:19:39.482673Z",
     "start_time": "2022-11-25T06:19:39.158022Z"
    }
   },
   "outputs": [
    {
     "name": "stdout",
     "output_type": "stream",
     "text": [
      "+--------------------+\n",
      "|            features|\n",
      "+--------------------+\n",
      "|[6.0,500.0,4.89,7...|\n",
      "|[6.0,750.0,14.99,...|\n",
      "|[12.0,1000.0,4.34...|\n",
      "|[12.0,500.0,5.54,...|\n",
      "|[6.0,1750.0,31.0,...|\n",
      "|[6.0,750.0,12.5,1...|\n",
      "|[12.0,500.0,4.96,...|\n",
      "|[12.0,1000.0,4.05...|\n",
      "|[12.0,500.0,4.9,7...|\n",
      "|[6.0,1750.0,8.2,1...|\n",
      "|[24.0,375.0,7.65,...|\n",
      "|[12.0,1000.0,5.5,...|\n",
      "|[12.0,750.0,4.5,6...|\n",
      "|[12.0,750.0,3.36,...|\n",
      "|[12.0,750.0,27.0,...|\n",
      "|[6.0,750.0,17.97,...|\n",
      "|[6.0,1750.0,20.25...|\n",
      "|[12.0,750.0,5.44,...|\n",
      "|[6.0,750.0,18.08,...|\n",
      "|[12.0,750.0,3.42,...|\n",
      "+--------------------+\n",
      "only showing top 20 rows\n",
      "\n"
     ]
    }
   ],
   "source": [
    "# Resultado de la columna generada (columna vectorial)\n",
    "output.select(\"features\").show()"
   ]
  },
  {
   "cell_type": "code",
   "execution_count": 12,
   "id": "1cea6446",
   "metadata": {
    "ExecuteTime": {
     "end_time": "2022-11-25T06:19:39.610462Z",
     "start_time": "2022-11-25T06:19:39.484529Z"
    }
   },
   "outputs": [
    {
     "name": "stdout",
     "output_type": "stream",
     "text": [
      "+--------------------+--------------+\n",
      "|            features|Sale (Dollars)|\n",
      "+--------------------+--------------+\n",
      "|[6.0,500.0,4.89,7...|         14.68|\n",
      "|[6.0,750.0,14.99,...|        134.94|\n",
      "|[12.0,1000.0,4.34...|         78.12|\n",
      "|[12.0,500.0,5.54,...|          8.31|\n",
      "|[6.0,1750.0,31.0,...|         92.98|\n",
      "|[6.0,750.0,12.5,1...|         112.5|\n",
      "|[12.0,500.0,4.96,...|          7.44|\n",
      "|[12.0,1000.0,4.05...|        145.92|\n",
      "|[12.0,500.0,4.9,7...|          7.35|\n",
      "|[6.0,1750.0,8.2,1...|          73.8|\n",
      "|[24.0,375.0,7.65,...|         11.48|\n",
      "|[12.0,1000.0,5.5,...|          99.0|\n",
      "|[12.0,750.0,4.5,6...|          81.0|\n",
      "|[12.0,750.0,3.36,...|        120.96|\n",
      "|[12.0,750.0,27.0,...|         486.0|\n",
      "|[6.0,750.0,17.97,...|         26.96|\n",
      "|[6.0,1750.0,20.25...|        182.28|\n",
      "|[12.0,750.0,5.44,...|          97.8|\n",
      "|[6.0,750.0,18.08,...|        162.78|\n",
      "|[12.0,750.0,3.42,...|          5.13|\n",
      "+--------------------+--------------+\n",
      "only showing top 20 rows\n",
      "\n"
     ]
    }
   ],
   "source": [
    "# Almacenar la columna vectorial y la columna de la variable a predecir\n",
    "loan_data = output.select('features', 'Sale (Dollars)')\n",
    "loan_data.show()"
   ]
  },
  {
   "cell_type": "code",
   "execution_count": 13,
   "id": "bc779852",
   "metadata": {
    "ExecuteTime": {
     "end_time": "2022-11-25T06:19:39.633239Z",
     "start_time": "2022-11-25T06:19:39.612546Z"
    }
   },
   "outputs": [],
   "source": [
    "# División del dataset en 80% de datos para entrenamiento y 20% de datos para pruebas\n",
    "train, test = loan_data.randomSplit([0.8, 0.2])"
   ]
  },
  {
   "cell_type": "code",
   "execution_count": 14,
   "id": "fab42412",
   "metadata": {
    "ExecuteTime": {
     "end_time": "2022-11-25T06:19:39.676520Z",
     "start_time": "2022-11-25T06:19:39.635283Z"
    }
   },
   "outputs": [],
   "source": [
    "# Definición del modelo\n",
    "model = LinearRegression(maxIter=10,\n",
    "                         featuresCol = 'features', \n",
    "                         labelCol = 'Sale (Dollars)', \n",
    "                         regParam = 0.3)"
   ]
  },
  {
   "cell_type": "markdown",
   "id": "23e61ad5",
   "metadata": {},
   "source": [
    "***Entrenamiento***"
   ]
  },
  {
   "cell_type": "markdown",
   "id": "86052abe",
   "metadata": {},
   "source": [
    "Continuamos con el entrenamiento del modelo, dando como entrada los datos de entrenamiento.\n",
    "\n",
    "Al termino del entrenamiento se utilizaran metricas para monitorear el rendimiento del entrenamiento. \n",
    "Las metricas utilizada son:\n",
    "* Mean Squared Error\n",
    "* Mean Absolute Error\n",
    "* r2"
   ]
  },
  {
   "cell_type": "code",
   "execution_count": 15,
   "id": "432100c7",
   "metadata": {
    "ExecuteTime": {
     "end_time": "2022-11-25T06:21:03.064100Z",
     "start_time": "2022-11-25T06:19:39.678692Z"
    }
   },
   "outputs": [
    {
     "name": "stderr",
     "output_type": "stream",
     "text": [
      "22/11/25 06:19:45 WARN InstanceBuilder$NativeBLAS: Failed to load implementation from:dev.ludovic.netlib.blas.JNIBLAS\n",
      "22/11/25 06:19:45 WARN InstanceBuilder$NativeBLAS: Failed to load implementation from:dev.ludovic.netlib.blas.ForeignLinkerBLAS\n",
      "22/11/25 06:20:21 WARN InstanceBuilder$NativeLAPACK: Failed to load implementation from:dev.ludovic.netlib.lapack.JNILAPACK\n",
      "                                                                                \r"
     ]
    }
   ],
   "source": [
    "# Entrenamiento del modelo\n",
    "modelo = model.fit(train)"
   ]
  },
  {
   "cell_type": "code",
   "execution_count": 16,
   "id": "365c3b26",
   "metadata": {
    "ExecuteTime": {
     "end_time": "2022-11-25T06:21:07.582752Z",
     "start_time": "2022-11-25T06:21:03.068065Z"
    }
   },
   "outputs": [
    {
     "name": "stderr",
     "output_type": "stream",
     "text": [
      "/home/mc/spark/spark-3.2.2-bin-hadoop3.2/python/pyspark/sql/context.py:125: FutureWarning: Deprecated in 3.0.0. Use SparkSession.builder.getOrCreate() instead.\n",
      "  warnings.warn(\n"
     ]
    },
    {
     "name": "stdout",
     "output_type": "stream",
     "text": [
      "Coefficients: [-4.9534996388720245,-0.04847003048185474,3.3598193956201663,1.454646977175727,8.040970878635838,5.85068721506168]\n",
      "Intercept: 48.41406596043427\n"
     ]
    },
    {
     "name": "stderr",
     "output_type": "stream",
     "text": [
      "[Stage 16:>                                                         (0 + 1) / 1]\r"
     ]
    },
    {
     "name": "stdout",
     "output_type": "stream",
     "text": [
      "+-------------------+\n",
      "|          residuals|\n",
      "+-------------------+\n",
      "|-152.12835773058842|\n",
      "| 32.634610646617205|\n",
      "|  36.93464655477334|\n",
      "|-123.47045104985062|\n",
      "|-230.72282324229047|\n",
      "| -98.82079582215465|\n",
      "|-29.789590441541236|\n",
      "|-393.37584603609895|\n",
      "|-393.37584603609895|\n",
      "| -573.9581660580989|\n",
      "| 1556.0929847526481|\n",
      "| 1556.0929847526481|\n",
      "| -576.8190158376956|\n",
      "| -576.8190158376956|\n",
      "| -576.8190158376956|\n",
      "| -576.8190158376956|\n",
      "| -576.8190158376956|\n",
      "| -576.8190158376956|\n",
      "| -576.8190158376956|\n",
      "| -576.8190158376956|\n",
      "+-------------------+\n",
      "only showing top 20 rows\n",
      "\n",
      "MSE: 221.977614\n",
      "MAE: 51.410410\n",
      "r2: 0.774909\n"
     ]
    },
    {
     "name": "stderr",
     "output_type": "stream",
     "text": [
      "                                                                                \r"
     ]
    }
   ],
   "source": [
    "# Impresión de metricas para el desempeño del modelo\n",
    "print(\"Coefficients: %s\" % str(modelo.coefficients))\n",
    "print(\"Intercept: %s\" % str(modelo.intercept))\n",
    "\n",
    "trainingSummary = modelo.summary\n",
    "trainingSummary.residuals.show()\n",
    "print(\"MSE: %f\" % trainingSummary.rootMeanSquaredError)\n",
    "print(\"MAE: %f\" % trainingSummary.meanAbsoluteError)\n",
    "print(\"r2: %f\" % trainingSummary.r2)"
   ]
  },
  {
   "cell_type": "markdown",
   "id": "eefa5444",
   "metadata": {},
   "source": [
    "***Evaluación***"
   ]
  },
  {
   "cell_type": "markdown",
   "id": "9b3736dd",
   "metadata": {},
   "source": [
    "Posterior al entrenamiento, se realiza la evaluación del modelo. En esta ocasión la entrada son los datos de pruebas. Con ello esperamos de salida las prediciones de las ventas en dolares. \n",
    "Finalmente utilizando las mismas metricas que en el entrenamiento, se monitorea el rendimiento de la predición.\n",
    "Las metricas utilizada son:\n",
    "\n",
    "* Mean Squared Error\n",
    "* Mean Absolute Error\n",
    "* r2"
   ]
  },
  {
   "cell_type": "code",
   "execution_count": 17,
   "id": "e42e4048",
   "metadata": {
    "ExecuteTime": {
     "end_time": "2022-11-25T06:21:46.004862Z",
     "start_time": "2022-11-25T06:21:07.584702Z"
    }
   },
   "outputs": [
    {
     "name": "stderr",
     "output_type": "stream",
     "text": [
      "                                                                                \r"
     ]
    }
   ],
   "source": [
    "# Evaluacion del modelo\n",
    "test_results = modelo.evaluate(test)"
   ]
  },
  {
   "cell_type": "code",
   "execution_count": 18,
   "id": "a2cbb707",
   "metadata": {
    "ExecuteTime": {
     "end_time": "2022-11-25T06:21:50.435195Z",
     "start_time": "2022-11-25T06:21:46.006578Z"
    }
   },
   "outputs": [
    {
     "name": "stderr",
     "output_type": "stream",
     "text": [
      "[Stage 19:>                                                         (0 + 1) / 1]\r"
     ]
    },
    {
     "name": "stdout",
     "output_type": "stream",
     "text": [
      "+--------------------+-------------------+\n",
      "|            features|         prediction|\n",
      "+--------------------+-------------------+\n",
      "|[1.0,750.0,53.83,...| 330.28783751320896|\n",
      "|[1.0,750.0,53.83,...| 330.28783751320896|\n",
      "|[1.0,750.0,137.88...|  783.6390158376956|\n",
      "|[1.0,750.0,137.88...|  783.6390158376956|\n",
      "|[1.0,750.0,137.88...|  796.0680021276278|\n",
      "|[1.0,750.0,155.99...|  884.0081034622415|\n",
      "|[1.0,750.0,5800.0...|  32161.91822577589|\n",
      "|[1.0,1000.0,27.15...|  159.3490619048599|\n",
      "|[1.0,2250.0,43.5,...|  196.6758738201071|\n",
      "|[1.0,2250.0,43.5,...| 239.08590804515637|\n",
      "|[1.0,3000.0,5.52,...| -45.76581256534277|\n",
      "|[1.0,3000.0,5.52,...| -45.76581256534277|\n",
      "|[1.0,3000.0,5.52,...|-20.172780041521875|\n",
      "|[1.0,3000.0,5.52,...| 31.013285006119872|\n",
      "|[1.0,3000.0,28.6,...| 107.73172995921523|\n",
      "|[1.0,3000.0,29.3,...|  86.01795033836298|\n",
      "|[1.0,3000.0,29.72...|  88.34550208014416|\n",
      "|[1.0,3000.0,29.72...|  88.34550208014416|\n",
      "|[1.0,3000.0,29.72...|  88.34550208014416|\n",
      "|[1.0,3000.0,29.72...|  88.34550208014416|\n",
      "+--------------------+-------------------+\n",
      "only showing top 20 rows\n",
      "\n"
     ]
    },
    {
     "name": "stderr",
     "output_type": "stream",
     "text": [
      "                                                                                \r"
     ]
    }
   ],
   "source": [
    "# Generar prediciones\n",
    "predictions_data = test.select('features')\n",
    "predictions = modelo.transform(predictions_data)\n",
    "predictions.show()"
   ]
  },
  {
   "cell_type": "code",
   "execution_count": 19,
   "id": "eb07c2e0",
   "metadata": {
    "ExecuteTime": {
     "end_time": "2022-11-25T06:21:54.824861Z",
     "start_time": "2022-11-25T06:21:50.436721Z"
    }
   },
   "outputs": [
    {
     "name": "stderr",
     "output_type": "stream",
     "text": [
      "[Stage 20:>                                                         (0 + 1) / 1]\r"
     ]
    },
    {
     "name": "stdout",
     "output_type": "stream",
     "text": [
      "+-------------------+\n",
      "|          residuals|\n",
      "+-------------------+\n",
      "|-168.78783751320896|\n",
      "|-168.78783751320896|\n",
      "| -576.8190158376956|\n",
      "| -576.8190158376956|\n",
      "| -382.4280021276278|\n",
      "| -650.0181034622415|\n",
      "| -23461.91822577589|\n",
      "| -118.6190619048599|\n",
      "| -131.4258738201071|\n",
      "| -43.33590804515637|\n",
      "|  54.04581256534277|\n",
      "|  54.04581256534277|\n",
      "|  36.73278004152188|\n",
      "|  2.106714993880125|\n",
      "|-21.931729959215232|\n",
      "| -42.06795033836298|\n",
      "| -43.76550208014416|\n",
      "| -43.76550208014416|\n",
      "| -43.76550208014416|\n",
      "| -43.76550208014416|\n",
      "+-------------------+\n",
      "only showing top 20 rows\n",
      "\n",
      "MSE: 223.836623\n",
      "MAE: 51.333868\n",
      "r2: 0.752768\n"
     ]
    },
    {
     "name": "stderr",
     "output_type": "stream",
     "text": [
      "                                                                                \r"
     ]
    }
   ],
   "source": [
    "# Impresión de metricas para el desempeño de las pruebas\n",
    "test_results.residuals.show()\n",
    "print(\"MSE: %f\" % test_results.rootMeanSquaredError)\n",
    "print(\"MAE: %f\" % test_results.meanAbsoluteError)\n",
    "print(\"r2: %f\" % test_results.r2)"
   ]
  },
  {
   "cell_type": "markdown",
   "id": "d145fb1b",
   "metadata": {},
   "source": [
    "Para concluir se obtiene una r2 en entrenamiento de 77 y una r2 en pruebas de 75"
   ]
  }
 ],
 "metadata": {
  "kernelspec": {
   "display_name": "Python 3 (ipykernel)",
   "language": "python",
   "name": "python3"
  },
  "language_info": {
   "codemirror_mode": {
    "name": "ipython",
    "version": 3
   },
   "file_extension": ".py",
   "mimetype": "text/x-python",
   "name": "python",
   "nbconvert_exporter": "python",
   "pygments_lexer": "ipython3",
   "version": "3.8.10"
  }
 },
 "nbformat": 4,
 "nbformat_minor": 5
}
